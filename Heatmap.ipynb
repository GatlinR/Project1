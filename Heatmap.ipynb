{
 "cells": [
  {
   "cell_type": "code",
   "execution_count": 3,
   "metadata": {},
   "outputs": [],
   "source": [
    "import gmaps\n",
    "import matplotlib.pyplot as plt\n",
    "import pandas as pd\n",
    "import numpy as np\n",
    "import requests\n",
    "\n",
    "# Google developer API key\n",
    "from config import gkey\n",
    "\n",
    "# Access maps with unique API key\n",
    "gmaps.configure(api_key=gkey)"
   ]
  },
  {
   "cell_type": "code",
   "execution_count": 5,
   "metadata": {},
   "outputs": [
    {
     "data": {
      "text/html": [
       "<div>\n",
       "<style scoped>\n",
       "    .dataframe tbody tr th:only-of-type {\n",
       "        vertical-align: middle;\n",
       "    }\n",
       "\n",
       "    .dataframe tbody tr th {\n",
       "        vertical-align: top;\n",
       "    }\n",
       "\n",
       "    .dataframe thead th {\n",
       "        text-align: right;\n",
       "    }\n",
       "</style>\n",
       "<table border=\"1\" class=\"dataframe\">\n",
       "  <thead>\n",
       "    <tr style=\"text-align: right;\">\n",
       "      <th></th>\n",
       "      <th>Zip Code</th>\n",
       "      <th>Lat</th>\n",
       "      <th>Long</th>\n",
       "      <th>Avg Price per SqFt (House)</th>\n",
       "      <th>Avg House Price</th>\n",
       "    </tr>\n",
       "  </thead>\n",
       "  <tbody>\n",
       "    <tr>\n",
       "      <th>0</th>\n",
       "      <td>78745</td>\n",
       "      <td>30.198702</td>\n",
       "      <td>-97.797183</td>\n",
       "      <td>161.5</td>\n",
       "      <td>316202</td>\n",
       "    </tr>\n",
       "    <tr>\n",
       "      <th>1</th>\n",
       "      <td>78705</td>\n",
       "      <td>30.292828</td>\n",
       "      <td>-97.740000</td>\n",
       "      <td>320.0</td>\n",
       "      <td>664104</td>\n",
       "    </tr>\n",
       "    <tr>\n",
       "      <th>2</th>\n",
       "      <td>78729</td>\n",
       "      <td>30.455000</td>\n",
       "      <td>-97.760000</td>\n",
       "      <td>159.0</td>\n",
       "      <td>312731</td>\n",
       "    </tr>\n",
       "    <tr>\n",
       "      <th>3</th>\n",
       "      <td>78732</td>\n",
       "      <td>30.380000</td>\n",
       "      <td>-97.890000</td>\n",
       "      <td>154.8</td>\n",
       "      <td>596332</td>\n",
       "    </tr>\n",
       "    <tr>\n",
       "      <th>4</th>\n",
       "      <td>78702</td>\n",
       "      <td>30.260000</td>\n",
       "      <td>-97.710000</td>\n",
       "      <td>346.9</td>\n",
       "      <td>459171</td>\n",
       "    </tr>\n",
       "  </tbody>\n",
       "</table>\n",
       "</div>"
      ],
      "text/plain": [
       "   Zip Code        Lat       Long  Avg Price per SqFt (House)  Avg House Price\n",
       "0     78745  30.198702 -97.797183                       161.5           316202\n",
       "1     78705  30.292828 -97.740000                       320.0           664104\n",
       "2     78729  30.455000 -97.760000                       159.0           312731\n",
       "3     78732  30.380000 -97.890000                       154.8           596332\n",
       "4     78702  30.260000 -97.710000                       346.9           459171"
      ]
     },
     "execution_count": 5,
     "metadata": {},
     "output_type": "execute_result"
    }
   ],
   "source": [
    "#Coordinates of 5 zip codes\n",
    "lat = [30.198702,30.292828,30.455,30.38,30.26]\n",
    "long = [-97.797183,-97.74,-97.76,-97.89,-97.71]\n",
    "price_sqft_house = [161.5,320,159,154.8,346.9]\n",
    "price_house = [316202,664104,312731,596332,459171]\n",
    "zip_code = [78745,78705,78729,78732,78702]\n",
    "df = pd.DataFrame({\"Zip Code\": zip_code, \"Lat\": lat,\"Long\": long,\"Avg Price per SqFt (House)\": price_sqft_house, \n",
    "                   \"Avg House Price\": price_house})\n",
    "df"
   ]
  },
  {
   "cell_type": "code",
   "execution_count": 3,
   "metadata": {},
   "outputs": [],
   "source": [
    "#Set locations equal to lat and long\n",
    "locations = df[[\"Lat\",\"Long\"]]\n",
    "#Convert humidity to a float \n",
    "price_per_sqft = df[\"Avg Price per SqFt (House)\"].astype(float)\n",
    "# Customize the size of the figure\n",
    "figure_layout = {\n",
    "    'width': '400px',\n",
    "    'height': '300px',\n",
    "    'border': '1px solid black',\n",
    "    'padding': '1px',\n",
    "    'margin': '0 auto 0 auto'\n",
    "}\n",
    "fig = gmaps.figure(layout=figure_layout)"
   ]
  },
  {
   "cell_type": "code",
   "execution_count": 4,
   "metadata": {},
   "outputs": [
    {
     "ename": "NameError",
     "evalue": "name 'rating' is not defined",
     "output_type": "error",
     "traceback": [
      "\u001b[1;31m---------------------------------------------------------------------------\u001b[0m",
      "\u001b[1;31mNameError\u001b[0m                                 Traceback (most recent call last)",
      "\u001b[1;32m<ipython-input-4-1a28c0b6be35>\u001b[0m in \u001b[0;36m<module>\u001b[1;34m\u001b[0m\n\u001b[0;32m      5\u001b[0m \u001b[1;31m# Create heat layer\u001b[0m\u001b[1;33m\u001b[0m\u001b[1;33m\u001b[0m\u001b[1;33m\u001b[0m\u001b[0m\n\u001b[0;32m      6\u001b[0m \u001b[1;33m\u001b[0m\u001b[0m\n\u001b[1;32m----> 7\u001b[1;33m heat_layer = gmaps.heatmap_layer(coordinates, weights=rating, \n\u001b[0m\u001b[0;32m      8\u001b[0m                                  \u001b[0mdissipating\u001b[0m\u001b[1;33m=\u001b[0m\u001b[1;32mFalse\u001b[0m\u001b[1;33m,\u001b[0m \u001b[0mmax_intensity\u001b[0m\u001b[1;33m=\u001b[0m\u001b[1;36m10\u001b[0m\u001b[1;33m,\u001b[0m\u001b[1;33m\u001b[0m\u001b[1;33m\u001b[0m\u001b[0m\n\u001b[0;32m      9\u001b[0m                                  point_radius=1)\n",
      "\u001b[1;31mNameError\u001b[0m: name 'rating' is not defined"
     ]
    }
   ],
   "source": [
    "#Create figure\n",
    "fig = gmaps.figure()\n",
    "#Create heatlayer\n",
    "heat_layer = gmaps.heatmap_layer(locations, weights = price_per_sqft,dissipating=False, max_intensity=10,\n",
    "                                 point_radius=1)\n",
    "#Add heat layer to map\n",
    "fig.add_layer(heat_layer)\n",
    "#Show figure\n",
    "fig\n",
    "# Assign the marker layer to a variable\n",
    "markers = gmaps.marker_layer(coordinates)\n",
    "\n",
    "fig"
   ]
  },
  {
   "cell_type": "code",
   "execution_count": null,
   "metadata": {},
   "outputs": [],
   "source": []
  }
 ],
 "metadata": {
  "kernelspec": {
   "display_name": "Python 3",
   "language": "python",
   "name": "python3"
  },
  "language_info": {
   "codemirror_mode": {
    "name": "ipython",
    "version": 3
   },
   "file_extension": ".py",
   "mimetype": "text/x-python",
   "name": "python",
   "nbconvert_exporter": "python",
   "pygments_lexer": "ipython3",
   "version": "3.7.6"
  }
 },
 "nbformat": 4,
 "nbformat_minor": 4
}
