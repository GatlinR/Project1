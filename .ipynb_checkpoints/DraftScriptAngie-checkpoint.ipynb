{
 "cells": [
  {
   "cell_type": "code",
   "execution_count": 1,
   "metadata": {},
   "outputs": [],
   "source": [
    "import requests\n",
    "import json\n",
    "from pprint import pprint\n",
    "import pandas as pd\n",
    "import matplotlib as plt\n",
    "import config "
   ]
  },
  {
   "cell_type": "code",
   "execution_count": 2,
   "metadata": {},
   "outputs": [
    {
     "ename": "KeyError",
     "evalue": "'property'",
     "output_type": "error",
     "traceback": [
      "\u001b[0;31m---------------------------------------------------------------------------\u001b[0m",
      "\u001b[0;31mKeyError\u001b[0m                                  Traceback (most recent call last)",
      "\u001b[0;32m<ipython-input-2-e41a51695cce>\u001b[0m in \u001b[0;36m<module>\u001b[0;34m\u001b[0m\n\u001b[1;32m     15\u001b[0m \u001b[0mprop_type\u001b[0m \u001b[0;34m=\u001b[0m \u001b[0;34m[\u001b[0m\u001b[0;34m]\u001b[0m\u001b[0;34m\u001b[0m\u001b[0;34m\u001b[0m\u001b[0m\n\u001b[1;32m     16\u001b[0m \u001b[0myear_built\u001b[0m \u001b[0;34m=\u001b[0m \u001b[0;34m[\u001b[0m\u001b[0;34m]\u001b[0m\u001b[0;34m\u001b[0m\u001b[0;34m\u001b[0m\u001b[0m\n\u001b[0;32m---> 17\u001b[0;31m \u001b[0;32mfor\u001b[0m \u001b[0mitem\u001b[0m \u001b[0;32min\u001b[0m \u001b[0mjson_response\u001b[0m\u001b[0;34m[\u001b[0m\u001b[0;34m'property'\u001b[0m\u001b[0;34m]\u001b[0m\u001b[0;34m:\u001b[0m\u001b[0;34m\u001b[0m\u001b[0;34m\u001b[0m\u001b[0m\n\u001b[0m\u001b[1;32m     18\u001b[0m     \u001b[0mmarket_value\u001b[0m\u001b[0;34m.\u001b[0m\u001b[0mappend\u001b[0m\u001b[0;34m(\u001b[0m\u001b[0mitem\u001b[0m\u001b[0;34m[\u001b[0m\u001b[0;34m'assessment'\u001b[0m\u001b[0;34m]\u001b[0m\u001b[0;34m[\u001b[0m\u001b[0;34m'market'\u001b[0m\u001b[0;34m]\u001b[0m\u001b[0;34m[\u001b[0m\u001b[0;34m'mktttlvalue'\u001b[0m\u001b[0;34m]\u001b[0m\u001b[0;34m)\u001b[0m\u001b[0;34m\u001b[0m\u001b[0;34m\u001b[0m\u001b[0m\n\u001b[1;32m     19\u001b[0m     \u001b[0msq_ft\u001b[0m\u001b[0;34m.\u001b[0m\u001b[0mappend\u001b[0m\u001b[0;34m(\u001b[0m\u001b[0mitem\u001b[0m\u001b[0;34m[\u001b[0m\u001b[0;34m'building'\u001b[0m\u001b[0;34m]\u001b[0m\u001b[0;34m[\u001b[0m\u001b[0;34m'size'\u001b[0m\u001b[0;34m]\u001b[0m\u001b[0;34m[\u001b[0m\u001b[0;34m'bldgsize'\u001b[0m\u001b[0;34m]\u001b[0m\u001b[0;34m)\u001b[0m\u001b[0;34m\u001b[0m\u001b[0;34m\u001b[0m\u001b[0m\n",
      "\u001b[0;31mKeyError\u001b[0m: 'property'"
     ]
    }
   ],
   "source": [
    "#Search for all property types in zip code 78745 (Travis County-near Lake Travis)\n",
    "payload = {\n",
    "    'Accept': 'application/json',\n",
    "    'apikey': '7b9eb8ef3e34f7e6d457bdd8c19291fb',\n",
    "    'accept': 'application/json'\n",
    "}\n",
    "url = \"https://api.gateway.attomdata.com/propertyapi/v1.0.0/assessment/detail?postalcode=78745&pagesize=10000\"\n",
    "s = requests.Session()\n",
    "response = s.get(url, headers = payload)\n",
    "json_response = response.json()\n",
    "#pprint(json_response)\n",
    "market_value = []\n",
    "sq_ft = []\n",
    "zip_code = []\n",
    "prop_type = []\n",
    "year_built = []\n",
    "for item in json_response['property']:\n",
    "    market_value.append(item['assessment']['market']['mktttlvalue'])\n",
    "    sq_ft.append(item['building']['size']['bldgsize'])\n",
    "    zip_code.append(item['address']['postal1'])\n",
    "    prop_type.append(item['summary']['proptype'])\n",
    "    year_built.append(item['summary']['yearbuilt'])\n",
    "df_78745 = pd.DataFrame({\"Zip Code\": zip_code, \"Property Type\": prop_type, \"Square Feet\": sq_ft, \"Market Value\": market_value,\n",
    "                  \"Year Built\": year_built})\n",
    "#Add Price per SqFt column \n",
    "df_78745[\"Price per SqFt\"] = round(df_78745[\"Market Value\"]/df_78745[\"Square Feet\"],2)\n",
    "#Get rid of rows with zero in data\n",
    "df_78745 = df_78745.loc[df_78745[\"Square Feet\"]!=0,:]\n",
    "#Narrow down dataframe to propery types we want to look at\n",
    "df_78745 = df_78745.loc[(df_78745[\"Property Type\"]==\"CONDOMINIUM\")|(df_78745[\"Property Type\"]==\"DUPLEX\")|\n",
    "                        (df_78745[\"Property Type\"]==\"SFR\")|(df_78745[\"Property Type\"]==\"MULTI FAMILY DWELLING\"),:]\n",
    "df_78745\n",
    "#ariana:\n",
    "#Calculate average price per sqft for Condominium, Duplex, SFR, and Multi Family Dwelling\n",
    "\n",
    "#gatlin\n",
    "#Find average house value (SFR), plot Year Built vs. Market Value of SFR on line graph to see how it changes over time\n",
    "\n",
    "#nick\n",
    "#Does age of house affect its market value?\n",
    "\n",
    "#hadis\n",
    "#Find count of each property type, what property types are most popular? \n",
    "\n",
    "#angie:\n",
    "#Find count of Condominium, Duplex, SFR, and Multi Family Dwelling based on year built\n",
    "\n",
    "\n",
    "\n",
    "condo_78745_df = df_78745.loc[(df_78745[\"Property Type\"]==\"CONDOMINIUM\")]\n",
    "duplex_78745_df = df_78745.loc[(df_78745[\"Property Type\"]==\"DUPLEX\")]\n",
    "sfr_78745_df =df_78745.loc[(df_78745[\"Property Type\"]==\"SFR\")]\n",
    "mfd_78745_df =df_78745.loc[(df_78745[\"Property Type\"]==\"MULTI FAMILY DWELLING\")]\n",
    "\n",
    "#condo count by year\n",
    "condo_78745_year_df=condo_78745_df.groupby(\"Year Built\")\n",
    "condo_78745_count_df = condo_78745_year_df.count()\n",
    "count_condo_by_year_df=condo_78745_count_df.iloc[:,0-2]\n",
    "count_condo_by_year_df\n",
    "\n",
    "#duplex count by year\n",
    "duplex_78745_year_df=duplex_78745_df.groupby(\"Year Built\")\n",
    "duplex_78745_count_df = duplex_78745_year_df.count()\n",
    "count_duplex_by_year_df=duplex_78745_count_df.iloc[:,0-2]\n",
    "count_duplex_by_year_df\n",
    "\n",
    "\n",
    "#Single family residency count by year\n",
    "sfr_78745_year_df=sfr_78745_df.groupby(\"Year Built\")\n",
    "sfr_78745_count_df = sfr_78745_year_df.count()\n",
    "count_sfr_by_year_df=sfr_78745_count_df.iloc[:,0-2]\n",
    "count_sfr_by_year_df\n",
    "\n",
    "#multi family dwelling count by year\n",
    "mfd_78745_year_df=mfd_78745_df.groupby(\"Year Built\")\n",
    "mfd_78745_count_df = mfd_78745_year_df.count()\n",
    "count_mfd_by_year_df=mfd_78745_count_df.iloc[:,0-2]\n",
    "count_mfd_by_year_df\n",
    "\n",
    "\n",
    "#creating bins for years for graphs\n",
    "bins = [1950,1960,1970,1980,1990,2000,2010,2020]\n",
    "#x= years built\n",
    "#y = count\n",
    "#grouped bar chart(year built (bin) = x, y = count, group by building type)\n",
    "\n"
   ]
  },
  {
   "cell_type": "markdown",
   "metadata": {},
   "source": [
    "78705 is a densely populated, upscale urban zip code in Austin, Texas. Median household income here ($14,740) is significantly lower than US average ($56,604). The population is primarily white, younger, and mostly single."
   ]
  },
  {
   "cell_type": "code",
   "execution_count": 3,
   "metadata": {},
   "outputs": [
    {
     "ename": "KeyError",
     "evalue": "'property'",
     "output_type": "error",
     "traceback": [
      "\u001b[0;31m---------------------------------------------------------------------------\u001b[0m",
      "\u001b[0;31mKeyError\u001b[0m                                  Traceback (most recent call last)",
      "\u001b[0;32m<ipython-input-3-c688300d0149>\u001b[0m in \u001b[0;36m<module>\u001b[0;34m\u001b[0m\n\u001b[1;32m     16\u001b[0m \u001b[0mprop_class\u001b[0m \u001b[0;34m=\u001b[0m \u001b[0;34m[\u001b[0m\u001b[0;34m]\u001b[0m\u001b[0;34m\u001b[0m\u001b[0;34m\u001b[0m\u001b[0m\n\u001b[1;32m     17\u001b[0m \u001b[0myear_built\u001b[0m \u001b[0;34m=\u001b[0m \u001b[0;34m[\u001b[0m\u001b[0;34m]\u001b[0m\u001b[0;34m\u001b[0m\u001b[0;34m\u001b[0m\u001b[0m\n\u001b[0;32m---> 18\u001b[0;31m \u001b[0;32mfor\u001b[0m \u001b[0mitem\u001b[0m \u001b[0;32min\u001b[0m \u001b[0mjson_response\u001b[0m\u001b[0;34m[\u001b[0m\u001b[0;34m'property'\u001b[0m\u001b[0;34m]\u001b[0m\u001b[0;34m:\u001b[0m\u001b[0;34m\u001b[0m\u001b[0;34m\u001b[0m\u001b[0m\n\u001b[0m\u001b[1;32m     19\u001b[0m     \u001b[0;32mtry\u001b[0m\u001b[0;34m:\u001b[0m\u001b[0;34m\u001b[0m\u001b[0;34m\u001b[0m\u001b[0m\n\u001b[1;32m     20\u001b[0m         \u001b[0mmarket_value\u001b[0m\u001b[0;34m.\u001b[0m\u001b[0mappend\u001b[0m\u001b[0;34m(\u001b[0m\u001b[0mitem\u001b[0m\u001b[0;34m[\u001b[0m\u001b[0;34m'assessment'\u001b[0m\u001b[0;34m]\u001b[0m\u001b[0;34m[\u001b[0m\u001b[0;34m'market'\u001b[0m\u001b[0;34m]\u001b[0m\u001b[0;34m[\u001b[0m\u001b[0;34m'mktttlvalue'\u001b[0m\u001b[0;34m]\u001b[0m\u001b[0;34m)\u001b[0m\u001b[0;34m\u001b[0m\u001b[0;34m\u001b[0m\u001b[0m\n",
      "\u001b[0;31mKeyError\u001b[0m: 'property'"
     ]
    }
   ],
   "source": [
    "#Search for all property types in zip code 78705 (West Campus-Travis County)\n",
    "payload = {\n",
    "    'Accept': 'application/json',\n",
    "    'apikey': '7b9eb8ef3e34f7e6d457bdd8c19291fb',\n",
    "    'accept': 'application/json'\n",
    "}\n",
    "url = \"https://api.gateway.attomdata.com/propertyapi/v1.0.0/assessment/detail?postalcode=78705&pagesize=5200\"\n",
    "s = requests.Session()\n",
    "response = s.get(url, headers = payload)\n",
    "\n",
    "json_response = response.json()\n",
    "#pprint(json_response)\n",
    "market_value = []\n",
    "sq_ft = []\n",
    "zip_code = []\n",
    "prop_class = []\n",
    "year_built = []\n",
    "for item in json_response['property']:\n",
    "    try: \n",
    "        market_value.append(item['assessment']['market']['mktttlvalue'])\n",
    "        sq_ft.append(item['building']['size']['bldgsize'])\n",
    "        zip_code.append(item['address']['postal1'])\n",
    "        prop_class.append(item['summary']['proptype'])\n",
    "        year_built.append(item['summary']['yearbuilt'])\n",
    "    except ValueError:\n",
    "        print(\"Not found\")\n",
    "df_78705 = pd.DataFrame({\"Zip Code\": zip_code, \"Property Type\": prop_class, \"Square Feet\": sq_ft, \n",
    "                         \"Market Value\": market_value, \"Year Built\": year_built})\n",
    "#Add Price per SqFt column \n",
    "df_78705[\"Price per SqFt\"] = round(df_78705[\"Market Value\"]/df_78705[\"Square Feet\"],2)\n",
    "#Get rid of rows with zero in data\n",
    "df_78705 = df_78705.loc[df_78705[\"Square Feet\"]!=0,:]\n",
    "df_78705 = df_78705.loc[(df_78705[\"Property Type\"]==\"CONDOMINIUM\")|(df_78705[\"Property Type\"]==\"DUPLEX\")|\n",
    "                        (df_78705[\"Property Type\"]==\"SFR\")|(df_78705[\"Property Type\"]==\"MULTI FAMILY DWELLING\"),:]\n",
    "df_78705"
   ]
  },
  {
   "cell_type": "markdown",
   "metadata": {},
   "source": [
    "The people living in ZIP code 78729 are primarily white. The number of people in their late 20s to early 40s is extremely large while the number of seniors is small. There are also an extremely large number of single adults and a small number of families. The percentage of children under 18 living in the 78729 ZIP code is slightly less than average compared to other areas of the country."
   ]
  },
  {
   "cell_type": "code",
   "execution_count": 4,
   "metadata": {},
   "outputs": [
    {
     "ename": "KeyError",
     "evalue": "'property'",
     "output_type": "error",
     "traceback": [
      "\u001b[0;31m---------------------------------------------------------------------------\u001b[0m",
      "\u001b[0;31mKeyError\u001b[0m                                  Traceback (most recent call last)",
      "\u001b[0;32m<ipython-input-4-b6c411e37646>\u001b[0m in \u001b[0;36m<module>\u001b[0;34m\u001b[0m\n\u001b[1;32m     16\u001b[0m \u001b[0mprop_class\u001b[0m \u001b[0;34m=\u001b[0m \u001b[0;34m[\u001b[0m\u001b[0;34m]\u001b[0m\u001b[0;34m\u001b[0m\u001b[0;34m\u001b[0m\u001b[0m\n\u001b[1;32m     17\u001b[0m \u001b[0myear_built\u001b[0m \u001b[0;34m=\u001b[0m \u001b[0;34m[\u001b[0m\u001b[0;34m]\u001b[0m\u001b[0;34m\u001b[0m\u001b[0;34m\u001b[0m\u001b[0m\n\u001b[0;32m---> 18\u001b[0;31m \u001b[0;32mfor\u001b[0m \u001b[0mitem\u001b[0m \u001b[0;32min\u001b[0m \u001b[0mjson_response\u001b[0m\u001b[0;34m[\u001b[0m\u001b[0;34m'property'\u001b[0m\u001b[0;34m]\u001b[0m\u001b[0;34m:\u001b[0m\u001b[0;34m\u001b[0m\u001b[0;34m\u001b[0m\u001b[0m\n\u001b[0m\u001b[1;32m     19\u001b[0m     \u001b[0;32mtry\u001b[0m\u001b[0;34m:\u001b[0m\u001b[0;34m\u001b[0m\u001b[0;34m\u001b[0m\u001b[0m\n\u001b[1;32m     20\u001b[0m         \u001b[0mmarket_value\u001b[0m\u001b[0;34m.\u001b[0m\u001b[0mappend\u001b[0m\u001b[0;34m(\u001b[0m\u001b[0mitem\u001b[0m\u001b[0;34m[\u001b[0m\u001b[0;34m'assessment'\u001b[0m\u001b[0;34m]\u001b[0m\u001b[0;34m[\u001b[0m\u001b[0;34m'market'\u001b[0m\u001b[0;34m]\u001b[0m\u001b[0;34m[\u001b[0m\u001b[0;34m'mktttlvalue'\u001b[0m\u001b[0;34m]\u001b[0m\u001b[0;34m)\u001b[0m\u001b[0;34m\u001b[0m\u001b[0;34m\u001b[0m\u001b[0m\n",
      "\u001b[0;31mKeyError\u001b[0m: 'property'"
     ]
    }
   ],
   "source": [
    "#Search for all property types in zip code 78729 (Suburb-Willamson County)\n",
    "payload = {\n",
    "    'Accept': 'application/json',\n",
    "    'apikey': '7b9eb8ef3e34f7e6d457bdd8c19291fb',\n",
    "    'accept': 'application/json'\n",
    "}\n",
    "url = \"https://api.gateway.attomdata.com/propertyapi/v1.0.0/assessment/detail?postalcode=78729&pagesize=7930\"\n",
    "s = requests.Session()\n",
    "response = s.get(url, headers = payload)\n",
    "\n",
    "json_response = response.json()\n",
    "#pprint(json_response)\n",
    "market_value = []\n",
    "sq_ft = []\n",
    "zip_code = []\n",
    "prop_class = []\n",
    "year_built = []\n",
    "for item in json_response['property']:\n",
    "    try: \n",
    "        market_value.append(item['assessment']['market']['mktttlvalue'])\n",
    "        sq_ft.append(item['building']['size']['bldgsize'])\n",
    "        zip_code.append(item['address']['postal1'])\n",
    "        prop_class.append(item['summary']['proptype'])\n",
    "        year_built.append(item['summary']['yearbuilt'])\n",
    "    except ValueError:\n",
    "        print(\"Not found\")\n",
    "df_78729 = pd.DataFrame({\"Zip Code\": zip_code, \"Property Type\": prop_class, \"Square Feet\": sq_ft, \n",
    "                         \"Market Value\": market_value,\"Year Built\":year_built})\n",
    "#Add price per sqft column\n",
    "df_78729[\"Price per SqFt\"] = round(df_78729[\"Market Value\"]/df_78729[\"Square Feet\"],2)\n",
    "#Get rid of rows with zero in data\n",
    "df_78729 = df_78729.loc[df_78729[\"Square Feet\"]!=0,:]\n",
    "df_78729 = df_78729.loc[(df_78729[\"Property Type\"]==\"CONDOMINIUM\")|(df_78729[\"Property Type\"]==\"DUPLEX\")|\n",
    "                        (df_78729[\"Property Type\"]==\"SFR\")|(df_78729[\"Property Type\"]==\"MULTI FAMILY DWELLING\"),:]\n",
    "df_78729"
   ]
  },
  {
   "cell_type": "code",
   "execution_count": null,
   "metadata": {},
   "outputs": [],
   "source": [
    "#Build a heat map that overlays the zip codes over Austin\n",
    "#Use lat and long of each zip code as locations and price/sqft as the weight\n",
    "#Plot markers that show price/sqft over each property \n",
    "#Does geography/location/land features affect the market value of homes?"
   ]
  }
 ],
 "metadata": {
  "kernelspec": {
   "display_name": "Python 3",
   "language": "python",
   "name": "python3"
  },
  "language_info": {
   "codemirror_mode": {
    "name": "ipython",
    "version": 3
   },
   "file_extension": ".py",
   "mimetype": "text/x-python",
   "name": "python",
   "nbconvert_exporter": "python",
   "pygments_lexer": "ipython3",
   "version": "3.7.6"
  }
 },
 "nbformat": 4,
 "nbformat_minor": 4
}
