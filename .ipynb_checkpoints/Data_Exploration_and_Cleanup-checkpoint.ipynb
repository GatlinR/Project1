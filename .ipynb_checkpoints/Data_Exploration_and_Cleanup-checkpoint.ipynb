{
 "cells": [
  {
   "cell_type": "code",
   "execution_count": 156,
   "metadata": {},
   "outputs": [],
   "source": [
    "import pandas as pd\n",
    "import requests\n",
    "import json\n",
    "import matplotlib.pyplot as plt\n",
    "from pprint import pprint"
   ]
  },
  {
   "cell_type": "code",
   "execution_count": 158,
   "metadata": {},
   "outputs": [],
   "source": [
    "#Search for all property types in zip code 78745 (Travis County-near Lake Travis)\n",
    "payload = {\n",
    "    'Accept': 'application/json',\n",
    "    'apikey': '85e8e036400dee107740b3c7e4653375',\n",
    "    'accept': 'application/json'\n",
    "}\n",
    "zipcodes = [78745,78705,78729,78732,78702]\n",
    "\n",
    "market_value = []\n",
    "sq_ft = []\n",
    "zip_code = []\n",
    "prop_type = []\n",
    "year_built = []\n",
    "\n",
    "for zipcode in zipcodes:\n",
    "    url = f\"https://api.gateway.attomdata.com/propertyapi/v1.0.0/assessment/detail?postalcode={zipcode}&propertyIndicator=10&pagesize=20\"\n",
    "    s = requests.Session()\n",
    "    response = s.get(url, headers = payload)\n",
    "    json_response = response.json()\n",
    "    \n",
    "    for item in json_response['property']:\n",
    "        market_value.append(item['assessment']['market']['mktttlvalue'])\n",
    "        sq_ft.append(item['building']['size']['bldgsize'])\n",
    "        zip_code.append(item['address']['postal1'])\n",
    "        prop_type.append(item['summary']['proptype'])\n",
    "        year_built.append(item['summary']['yearbuilt'])"
   ]
  },
  {
   "cell_type": "code",
   "execution_count": 159,
   "metadata": {},
   "outputs": [],
   "source": [
    "for zipcode in zipcodes:\n",
    "    url = f\"https://api.gateway.attomdata.com/propertyapi/v1.0.0/assessment/detail?postalcode={zipcode}&propertyIndicator=11&pagesize=20\"\n",
    "    s = requests.Session()\n",
    "    response = s.get(url, headers = payload)\n",
    "    json_response = response.json()\n",
    "    \n",
    "    for item in json_response['property']:\n",
    "        market_value.append(item['assessment']['market']['mktttlvalue'])\n",
    "        sq_ft.append(item['building']['size']['bldgsize'])\n",
    "        zip_code.append(item['address']['postal1'])\n",
    "        prop_type.append(item['summary']['proptype'])\n",
    "        year_built.append(item['summary']['yearbuilt'])   "
   ]
  },
  {
   "cell_type": "code",
   "execution_count": 160,
   "metadata": {},
   "outputs": [],
   "source": [
    "for zipcode in zipcodes:\n",
    "    url = f\"https://api.gateway.attomdata.com/propertyapi/v1.0.0/assessment/detail?postalcode={zipcode}&propertyIndicator=21&pagesize=20\"\n",
    "    s = requests.Session()\n",
    "    response = s.get(url, headers = payload)\n",
    "    json_response = response.json()\n",
    "    \n",
    "    for item in json_response['property']:\n",
    "        market_value.append(item['assessment']['market']['mktttlvalue'])\n",
    "        sq_ft.append(item['building']['size']['bldgsize'])\n",
    "        zip_code.append(item['address']['postal1'])\n",
    "        prop_type.append(item['summary']['proptype'])\n",
    "        year_built.append(item['summary']['yearbuilt'])"
   ]
  },
  {
   "cell_type": "code",
   "execution_count": 161,
   "metadata": {},
   "outputs": [],
   "source": [
    "df = pd.DataFrame({\"Zip Code\": zip_code, \"Property Type\": prop_type, \"Square Feet\": sq_ft, \"Market Value\": market_value,\n",
    "                  \"Year Built\": year_built})"
   ]
  },
  {
   "cell_type": "code",
   "execution_count": 172,
   "metadata": {},
   "outputs": [],
   "source": [
    "bins = [1889,1909,1919,1929,1939,1949,1959,1969,1979,1989,1999,2009,2019]\n",
    "bin_labels = [\"1900's\",\"1910's\",\"1920's\",\"1930's\",\"1940's\",\"1950's\",\"1960's\",\"1970's\",\"1980's\",\"1990's\",\"2000's\",\"2010's\"]\n",
    "df[\"Decade Built\"] = pd.cut(df[\"Year Built\"],bins,labels=bin_labels)\n",
    "df = df.sort_values([\"Decade Built\"], ascending=True)"
   ]
  },
  {
   "cell_type": "code",
   "execution_count": 173,
   "metadata": {},
   "outputs": [],
   "source": [
    "df.to_csv(\"Austin_Housing_Data.csv\")"
   ]
  },
  {
   "cell_type": "code",
   "execution_count": null,
   "metadata": {},
   "outputs": [],
   "source": [
    "    "
   ]
  }
 ],
 "metadata": {
  "kernelspec": {
   "display_name": "Python 3",
   "language": "python",
   "name": "python3"
  },
  "language_info": {
   "codemirror_mode": {
    "name": "ipython",
    "version": 3
   },
   "file_extension": ".py",
   "mimetype": "text/x-python",
   "name": "python",
   "nbconvert_exporter": "python",
   "pygments_lexer": "ipython3",
   "version": "3.7.6"
  }
 },
 "nbformat": 4,
 "nbformat_minor": 4
}
