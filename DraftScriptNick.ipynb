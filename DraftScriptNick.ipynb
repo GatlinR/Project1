{
 "cells": [
  {
   "cell_type": "code",
   "execution_count": 3,
   "metadata": {},
   "outputs": [],
   "source": [
    "import pandas as pd\n",
    "import requests\n",
    "import json\n",
    "from pprint import pprint\n",
    "from config import api_key"
   ]
  },
  {
   "cell_type": "code",
   "execution_count": null,
   "metadata": {},
   "outputs": [],
   "source": [
    "base_url = f\"https://api.gateway.attomdata.com/propertyapi/v1.0.0/assessment/detail?\"\n",
    "austin_zip_codes = [78610, 78613, 78617, 78641, 78652, 78653, 78660, \n",
    "             78664, 78681, 78701, 78702, 78703, 78704, 78705, \n",
    "             78712, 78717, 78719, 78721, 78722, 78723, 78724, \n",
    "             78725, 78726, 78727, 78728, 78729, 78730, 78731, \n",
    "             78732, 78733, 78734, 78735, 78736, 78737, 78738, \n",
    "             78739, 78741, 78742, 78744, 78745, 78746, 78747, \n",
    "             78748, 78749, 78750, 78751, 78752, 78753, 78754, \n",
    "             78756, 78757, 78758, 78759]\n",
    "\n",
    "#Read more: http://www.city-data.com/zipmaps/Austin-Texas.html\n",
    "\n",
    "query_url = "
   ]
  },
  {
   "cell_type": "code",
   "execution_count": null,
   "metadata": {},
   "outputs": [],
   "source": []
  }
 ],
 "metadata": {
  "kernelspec": {
   "display_name": "Python 3",
   "language": "python",
   "name": "python3"
  },
  "language_info": {
   "codemirror_mode": {
    "name": "ipython",
    "version": 3
   },
   "file_extension": ".py",
   "mimetype": "text/x-python",
   "name": "python",
   "nbconvert_exporter": "python",
   "pygments_lexer": "ipython3",
   "version": "3.7.6"
  }
 },
 "nbformat": 4,
 "nbformat_minor": 4
}
