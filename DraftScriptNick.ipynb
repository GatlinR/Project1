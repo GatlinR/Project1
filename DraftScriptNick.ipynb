{
 "cells": [
  {
   "cell_type": "code",
   "execution_count": 156,
   "metadata": {},
   "outputs": [],
   "source": [
    "import pandas as pd\n",
    "import requests\n",
    "import json\n",
    "import matplotlib.pyplot as plt\n",
    "from pprint import pprint"
   ]
  },
  {
   "cell_type": "code",
   "execution_count": 158,
   "metadata": {},
   "outputs": [],
   "source": [
    "#Search for all property types in zip code 78745 (Travis County-near Lake Travis)\n",
    "payload = {\n",
    "    'Accept': 'application/json',\n",
    "    'apikey': '85e8e036400dee107740b3c7e4653375',\n",
    "    'accept': 'application/json'\n",
    "}\n",
    "zipcodes = [78745,78705,78729,78732,78702]\n",
    "\n",
    "market_value = []\n",
    "sq_ft = []\n",
    "zip_code = []\n",
    "prop_type = []\n",
    "year_built = []\n",
    "\n",
    "for zipcode in zipcodes:\n",
    "    url = f\"https://api.gateway.attomdata.com/propertyapi/v1.0.0/assessment/detail?postalcode={zipcode}&propertyIndicator=10&pagesize=20\"\n",
    "    s = requests.Session()\n",
    "    response = s.get(url, headers = payload)\n",
    "    json_response = response.json()\n",
    "    \n",
    "    for item in json_response['property']:\n",
    "        market_value.append(item['assessment']['market']['mktttlvalue'])\n",
    "        sq_ft.append(item['building']['size']['bldgsize'])\n",
    "        zip_code.append(item['address']['postal1'])\n",
    "        prop_type.append(item['summary']['proptype'])\n",
    "        year_built.append(item['summary']['yearbuilt'])"
   ]
  },
  {
   "cell_type": "code",
   "execution_count": 159,
   "metadata": {},
   "outputs": [],
   "source": [
    "for zipcode in zipcodes:\n",
    "    url = f\"https://api.gateway.attomdata.com/propertyapi/v1.0.0/assessment/detail?postalcode={zipcode}&propertyIndicator=11&pagesize=20\"\n",
    "    s = requests.Session()\n",
    "    response = s.get(url, headers = payload)\n",
    "    json_response = response.json()\n",
    "    \n",
    "    for item in json_response['property']:\n",
    "        market_value.append(item['assessment']['market']['mktttlvalue'])\n",
    "        sq_ft.append(item['building']['size']['bldgsize'])\n",
    "        zip_code.append(item['address']['postal1'])\n",
    "        prop_type.append(item['summary']['proptype'])\n",
    "        year_built.append(item['summary']['yearbuilt'])   "
   ]
  },
  {
   "cell_type": "code",
   "execution_count": 160,
   "metadata": {},
   "outputs": [],
   "source": [
    "for zipcode in zipcodes:\n",
    "    url = f\"https://api.gateway.attomdata.com/propertyapi/v1.0.0/assessment/detail?postalcode={zipcode}&propertyIndicator=21&pagesize=20\"\n",
    "    s = requests.Session()\n",
    "    response = s.get(url, headers = payload)\n",
    "    json_response = response.json()\n",
    "    \n",
    "    for item in json_response['property']:\n",
    "        market_value.append(item['assessment']['market']['mktttlvalue'])\n",
    "        sq_ft.append(item['building']['size']['bldgsize'])\n",
    "        zip_code.append(item['address']['postal1'])\n",
    "        prop_type.append(item['summary']['proptype'])\n",
    "        year_built.append(item['summary']['yearbuilt'])"
   ]
  },
  {
   "cell_type": "code",
   "execution_count": 161,
   "metadata": {},
   "outputs": [],
   "source": [
    "df = pd.DataFrame({\"Zip Code\": zip_code, \"Property Type\": prop_type, \"Square Feet\": sq_ft, \"Market Value\": market_value,\n",
    "                  \"Year Built\": year_built})"
   ]
  },
  {
   "cell_type": "code",
   "execution_count": 162,
   "metadata": {},
   "outputs": [
    {
     "data": {
      "text/html": [
       "<div>\n",
       "<style scoped>\n",
       "    .dataframe tbody tr th:only-of-type {\n",
       "        vertical-align: middle;\n",
       "    }\n",
       "\n",
       "    .dataframe tbody tr th {\n",
       "        vertical-align: top;\n",
       "    }\n",
       "\n",
       "    .dataframe thead th {\n",
       "        text-align: right;\n",
       "    }\n",
       "</style>\n",
       "<table border=\"1\" class=\"dataframe\">\n",
       "  <thead>\n",
       "    <tr style=\"text-align: right;\">\n",
       "      <th></th>\n",
       "      <th>Zip Code</th>\n",
       "      <th>Property Type</th>\n",
       "      <th>Square Feet</th>\n",
       "      <th>Market Value</th>\n",
       "      <th>Year Built</th>\n",
       "      <th>Decade Built</th>\n",
       "    </tr>\n",
       "  </thead>\n",
       "  <tbody>\n",
       "    <tr>\n",
       "      <th>20</th>\n",
       "      <td>78705</td>\n",
       "      <td>SFR</td>\n",
       "      <td>0</td>\n",
       "      <td>682787</td>\n",
       "      <td>1908</td>\n",
       "      <td>1900's</td>\n",
       "    </tr>\n",
       "    <tr>\n",
       "      <th>234</th>\n",
       "      <td>78705</td>\n",
       "      <td>DUPLEX</td>\n",
       "      <td>5503</td>\n",
       "      <td>606300</td>\n",
       "      <td>1902</td>\n",
       "      <td>1900's</td>\n",
       "    </tr>\n",
       "    <tr>\n",
       "      <th>24</th>\n",
       "      <td>78705</td>\n",
       "      <td>SFR</td>\n",
       "      <td>4529</td>\n",
       "      <td>986000</td>\n",
       "      <td>1900</td>\n",
       "      <td>1900's</td>\n",
       "    </tr>\n",
       "    <tr>\n",
       "      <th>231</th>\n",
       "      <td>78705</td>\n",
       "      <td>QUADRUPLEX</td>\n",
       "      <td>3810</td>\n",
       "      <td>514634</td>\n",
       "      <td>1900</td>\n",
       "      <td>1900's</td>\n",
       "    </tr>\n",
       "    <tr>\n",
       "      <th>235</th>\n",
       "      <td>78705</td>\n",
       "      <td>TRIPLEX</td>\n",
       "      <td>2143</td>\n",
       "      <td>470161</td>\n",
       "      <td>1900</td>\n",
       "      <td>1900's</td>\n",
       "    </tr>\n",
       "    <tr>\n",
       "      <th>...</th>\n",
       "      <td>...</td>\n",
       "      <td>...</td>\n",
       "      <td>...</td>\n",
       "      <td>...</td>\n",
       "      <td>...</td>\n",
       "      <td>...</td>\n",
       "    </tr>\n",
       "    <tr>\n",
       "      <th>4</th>\n",
       "      <td>78745</td>\n",
       "      <td>SFR</td>\n",
       "      <td>2287</td>\n",
       "      <td>302262</td>\n",
       "      <td>1976</td>\n",
       "      <td>1970's</td>\n",
       "    </tr>\n",
       "    <tr>\n",
       "      <th>3</th>\n",
       "      <td>78745</td>\n",
       "      <td>SFR</td>\n",
       "      <td>2062</td>\n",
       "      <td>277665</td>\n",
       "      <td>1976</td>\n",
       "      <td>1970's</td>\n",
       "    </tr>\n",
       "    <tr>\n",
       "      <th>2</th>\n",
       "      <td>78745</td>\n",
       "      <td>SFR</td>\n",
       "      <td>1563</td>\n",
       "      <td>212751</td>\n",
       "      <td>1976</td>\n",
       "      <td>1970's</td>\n",
       "    </tr>\n",
       "    <tr>\n",
       "      <th>6</th>\n",
       "      <td>78745</td>\n",
       "      <td>SFR</td>\n",
       "      <td>1774</td>\n",
       "      <td>263343</td>\n",
       "      <td>1976</td>\n",
       "      <td>1970's</td>\n",
       "    </tr>\n",
       "    <tr>\n",
       "      <th>64</th>\n",
       "      <td>78732</td>\n",
       "      <td>SFR</td>\n",
       "      <td>2708</td>\n",
       "      <td>717618</td>\n",
       "      <td>1970</td>\n",
       "      <td>1970's</td>\n",
       "    </tr>\n",
       "  </tbody>\n",
       "</table>\n",
       "<p>100 rows × 6 columns</p>\n",
       "</div>"
      ],
      "text/plain": [
       "    Zip Code Property Type  Square Feet  Market Value  Year Built Decade Built\n",
       "20     78705           SFR            0        682787        1908       1900's\n",
       "234    78705        DUPLEX         5503        606300        1902       1900's\n",
       "24     78705           SFR         4529        986000        1900       1900's\n",
       "231    78705    QUADRUPLEX         3810        514634        1900       1900's\n",
       "235    78705       TRIPLEX         2143        470161        1900       1900's\n",
       "..       ...           ...          ...           ...         ...          ...\n",
       "4      78745           SFR         2287        302262        1976       1970's\n",
       "3      78745           SFR         2062        277665        1976       1970's\n",
       "2      78745           SFR         1563        212751        1976       1970's\n",
       "6      78745           SFR         1774        263343        1976       1970's\n",
       "64     78732           SFR         2708        717618        1970       1970's\n",
       "\n",
       "[100 rows x 6 columns]"
      ]
     },
     "execution_count": 162,
     "metadata": {},
     "output_type": "execute_result"
    }
   ],
   "source": [
    "bins = [1889,1909,1919,1929,1939,1949,1959,1969,1979,1989,1999,2009,2019]\n",
    "bin_labels = [\"1900's\",\"1910's\",\"1920's\",\"1930's\",\"1940's\",\"1950's\",\"1960's\",\"1970's\",\"1980's\",\"1990's\",\"2000's\",\"2010's\"]\n",
    "df[\"Decade Built\"] = pd.cut(df[\"Year Built\"],bins,labels=bin_labels)\n",
    "df = df.sort_values([\"Decade Built\"], ascending=True)\n",
    "df.head(100)"
   ]
  },
  {
   "cell_type": "code",
   "execution_count": 163,
   "metadata": {},
   "outputs": [],
   "source": [
    "df.to_csv(\"Austin_Housind_Data.csv\")"
   ]
  },
  {
   "cell_type": "code",
   "execution_count": 144,
   "metadata": {},
   "outputs": [],
   "source": [
    "new_df = df.groupby([\"Decade Built\"])[\"Market Value\"].mean()\n",
    "new_df = new_df.fillna(0)\n",
    "avg_value = []\n",
    "for i in range(len(new_df)): \n",
    "    avg_value.append(new_df[i])"
   ]
  },
  {
   "cell_type": "code",
   "execution_count": 145,
   "metadata": {},
   "outputs": [
    {
     "data": {
      "image/png": "[encoded data removed]",
      "text/plain": [
       "<Figure size 432x288 with 1 Axes>"
      ]
     },
     "metadata": {
      "needs_background": "light"
     },
     "output_type": "display_data"
    }
   ],
   "source": [
    "x = df[\"Decade Built\"].tolist()\n",
    "y = df[\"Market Value\"].tolist()\n",
    "plt.scatter(x,y)\n",
    "plt.title(\"Market Value of Houses in Austin by Decade Built\")\n",
    "plt.ylabel(\"Market Value ($)\")\n",
    "plt.xticks(rotation=45)\n",
    "plt.show()"
   ]
  },
  {
   "cell_type": "code",
   "execution_count": 146,
   "metadata": {},
   "outputs": [
    {
     "data": {
      "image/png": "[encoded data removed]",
      "text/plain": [
       "<Figure size 432x288 with 1 Axes>"
      ]
     },
     "metadata": {
      "needs_background": "light"
     },
     "output_type": "display_data"
    }
   ],
   "source": [
    "plt.plot(bin_labels,avg_value)\n",
    "plt.title(\"Average Market Value of Houses in Austin by Decade Built\")\n",
    "plt.ylabel(\"Avg. Market Value ($)\")\n",
    "plt.xticks(rotation=45)\n",
    "plt.show()"
   ]
  },
  {
   "cell_type": "code",
   "execution_count": null,
   "metadata": {},
   "outputs": [],
   "source": [
    "    "
   ]
  }
 ],
 "metadata": {
  "kernelspec": {
   "display_name": "Python 3",
   "language": "python",
   "name": "python3"
  },
  "language_info": {
   "codemirror_mode": {
    "name": "ipython",
    "version": 3
   },
   "file_extension": ".py",
   "mimetype": "text/x-python",
   "name": "python",
   "nbconvert_exporter": "python",
   "pygments_lexer": "ipython3",
   "version": "3.7.6"
  }
 },
 "nbformat": 4,
 "nbformat_minor": 4
}
